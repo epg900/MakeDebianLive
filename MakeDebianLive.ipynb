{
  "cells": [
    {
      "cell_type": "markdown",
      "metadata": {
        "id": "view-in-github",
        "colab_type": "text"
      },
      "source": [
        "<a href=\"https://colab.research.google.com/github/epg900/MakeDebianLive/blob/main/MakeDebianLive.ipynb\" target=\"_parent\"><img src=\"https://colab.research.google.com/assets/colab-badge.svg\" alt=\"Open In Colab\"/></a>"
      ]
    },
    {
      "cell_type": "code",
      "source": [
        "!wget https://gemmei.ftp.acc.umu.se/debian-cd/current-live/amd64/iso-hybrid/debian-live-12.7.0-amd64-kde.iso"
      ],
      "metadata": {
        "id": "FUiONzWl_Grq"
      },
      "execution_count": null,
      "outputs": []
    },
    {
      "cell_type": "code",
      "source": [
        "!apt-get install squashfs-tools"
      ],
      "metadata": {
        "id": "bPg4sY7b_3nN"
      },
      "execution_count": null,
      "outputs": []
    },
    {
      "cell_type": "code",
      "source": [
        "!7z x debian-live-12.7.0-amd64-kde.iso"
      ],
      "metadata": {
        "id": "F6o83tJ9AC7r"
      },
      "execution_count": null,
      "outputs": []
    },
    {
      "cell_type": "code",
      "source": [
        "!unsquashfs  live/filesystem.squashfs"
      ],
      "metadata": {
        "id": "n8YBaxIPAZxr"
      },
      "execution_count": null,
      "outputs": []
    },
    {
      "cell_type": "code",
      "source": [
        "!mount -o bind /dev/pts squashfs-root/dev/pts\n",
        "!mount -o bind /proc squashfs-root/proc\n",
        "!mount -o bind /sys squashfs-root/sys\n",
        "!mount -o bind /dev squashfs-root/dev"
      ],
      "metadata": {
        "id": "XtBAEcrHCmmw"
      },
      "execution_count": null,
      "outputs": []
    },
    {
      "cell_type": "code",
      "source": [
        "!chroot squashfs-root/ /bin/bash #important "
      ],
      "metadata": {
        "id": "OeQ_BzxUDZOt"
      },
      "execution_count": null,
      "outputs": []
    },
    {
      "cell_type": "code",
      "source": [
        "!umount squashfs-root/proc\n",
        "!umount squashfs-root/sys\n",
        "!umount squashfs-root/dev"
      ],
      "metadata": {
        "id": "Bq6MGyLXSxLP"
      },
      "execution_count": null,
      "outputs": []
    },
    {
      "cell_type": "code",
      "source": [
        "!mksquashfs squashfs-root/ filesystem.squshfs"
      ],
      "metadata": {
        "id": "RwW8ZX5DRiE-"
      },
      "execution_count": null,
      "outputs": []
    },
    {
      "cell_type": "code",
      "source": [
        "from google.colab import drive\n",
        "drive.mount('/content/drive')"
      ],
      "metadata": {
        "id": "pwwKqeKCW0zT"
      },
      "execution_count": null,
      "outputs": []
    },
    {
      "cell_type": "code",
      "source": [
        "!cp filesystem.squshfs drive/MyDrive/"
      ],
      "metadata": {
        "id": "d6374u6ZW84V"
      },
      "execution_count": null,
      "outputs": []
    }
  ],
  "metadata": {
    "colab": {
      "provenance": [],
      "include_colab_link": true
    },
    "kernelspec": {
      "display_name": "Python 3",
      "name": "python3"
    }
  },
  "nbformat": 4,
  "nbformat_minor": 0
}
